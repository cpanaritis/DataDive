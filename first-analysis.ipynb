{
 "cells": [
  {
   "cell_type": "code",
   "execution_count": 95,
   "metadata": {
    "collapsed": true
   },
   "outputs": [],
   "source": [
    "try:\n",
    "    import unicodecsv\n",
    "except:\n",
    "    !pip install unicodecsv\n",
    "    import unicodecsv"
   ]
  },
  {
   "cell_type": "code",
   "execution_count": 96,
   "metadata": {
    "collapsed": true
   },
   "outputs": [],
   "source": [
    "try:\n",
    "    import numpy\n",
    "except:\n",
    "    !pip install numpy\n",
    "    import numpy"
   ]
  },
  {
   "cell_type": "code",
   "execution_count": 97,
   "metadata": {
    "collapsed": true
   },
   "outputs": [],
   "source": [
    "try:\n",
    "    import nltk\n",
    "except:\n",
    "    !pip install nltk\n",
    "    import nltk"
   ]
  },
  {
   "cell_type": "code",
   "execution_count": 98,
   "metadata": {
    "collapsed": true
   },
   "outputs": [],
   "source": [
    "import pandas as pd\n",
    "import numpy as np\n",
    "import time\n",
    "from sklearn.model_selection import cross_val_predict\n",
    "from sklearn import linear_model\n",
    "import matplotlib.pyplot as plt\n",
    "from scipy.optimize import curve_fit\n",
    "from sklearn.model_selection import train_test_split\n",
    "from sklearn.preprocessing import StandardScaler"
   ]
  },
  {
   "cell_type": "code",
   "execution_count": 99,
   "metadata": {},
   "outputs": [
    {
     "name": "stdout",
     "output_type": "stream",
     "text": [
      "We here\n",
      "Loading training set inputs took 0.043791 seconds\n"
     ]
    },
    {
     "data": {
      "text/plain": [
       "array([  1.22270000e+06,   0.00000000e+00,   0.00000000e+00,\n",
       "         2.61268293e-04,   0.00000000e+00,   1.00000000e+00,\n",
       "         0.00000000e+00,   2.03812105e-06,   1.00000000e+00,\n",
       "         0.00000000e+00,   0.00000000e+00,   1.02500000e+03,\n",
       "         0.00000000e+00,   4.20000000e+01,   4.30000000e+01,\n",
       "         2.46120000e+04,   4.30000000e+01,   4.30000000e+01,\n",
       "         2.95000000e+03,   2.00000000e+02,   0.00000000e+00])"
      ]
     },
     "execution_count": 99,
     "metadata": {},
     "output_type": "execute_result"
    }
   ],
   "source": [
    "print(\"We here\")\n",
    "time1 = time.clock()\n",
    "# Insert the path to the kc_house_data.csv file in the next two lines\n",
    "x_dataset = pd.read_csv(\"Economics/Stocks _ Cryptocurrencies/Cryptocurrencies/bitcoin_dataset.csv\", delimiter=\",\", header=0, usecols=(2,3,5,6,7,8,9,10,11,12,13,14,15,16,17,18,19,20,21,22,23)).values\n",
    "y_dataset = pd.read_csv(\"Economics/Stocks _ Cryptocurrencies/Cryptocurrencies/bitcoin_dataset.csv\", delimiter=\",\", header=0, usecols=[\"btc_market_price\"]).values\n",
    "time2 = time.clock()\n",
    "print(\"Loading training set inputs took \" + str(time2-time1) + \" seconds\")\n",
    "#x = x.reshape(-1, 64, 64) # reshape\n",
    "x_dataset[0]"
   ]
  },
  {
   "cell_type": "code",
   "execution_count": 104,
   "metadata": {
    "scrolled": true
   },
   "outputs": [
    {
     "ename": "NameError",
     "evalue": "name 'numby' is not defined",
     "output_type": "error",
     "traceback": [
      "\u001b[0;31m---------------------------------------------------------------------------\u001b[0m",
      "\u001b[0;31mNameError\u001b[0m                                 Traceback (most recent call last)",
      "\u001b[0;32m<ipython-input-104-041ba19f6b84>\u001b[0m in \u001b[0;36m<module>\u001b[0;34m()\u001b[0m\n\u001b[0;32m----> 1\u001b[0;31m \u001b[0mlr\u001b[0m \u001b[0;34m=\u001b[0m \u001b[0mnumby\u001b[0m\u001b[0;34m.\u001b[0m\u001b[0mpolyfit\u001b[0m\u001b[0;34m(\u001b[0m\u001b[0;34m)\u001b[0m\u001b[0;34m\u001b[0m\u001b[0m\n\u001b[0m\u001b[1;32m      2\u001b[0m \u001b[0mX_train\u001b[0m\u001b[0;34m,\u001b[0m \u001b[0mX_test\u001b[0m\u001b[0;34m,\u001b[0m \u001b[0my_train\u001b[0m\u001b[0;34m,\u001b[0m \u001b[0my_test\u001b[0m \u001b[0;34m=\u001b[0m \u001b[0mtrain_test_split\u001b[0m\u001b[0;34m(\u001b[0m\u001b[0mx_dataset\u001b[0m\u001b[0;34m,\u001b[0m \u001b[0my_dataset\u001b[0m\u001b[0;34m,\u001b[0m \u001b[0mtrain_size\u001b[0m\u001b[0;34m=\u001b[0m\u001b[0;36m0.7\u001b[0m\u001b[0;34m,\u001b[0m \u001b[0mtest_size\u001b[0m\u001b[0;34m=\u001b[0m\u001b[0;36m0.3\u001b[0m\u001b[0;34m)\u001b[0m\u001b[0;34m\u001b[0m\u001b[0m\n",
      "\u001b[0;31mNameError\u001b[0m: name 'numby' is not defined"
     ]
    }
   ],
   "source": [
    "lr = numby.polyfit()\n",
    "X_train, X_test, y_train, y_test = train_test_split(x_dataset, y_dataset, train_size=0.7, test_size=0.3)"
   ]
  },
  {
   "cell_type": "code",
   "execution_count": 87,
   "metadata": {},
   "outputs": [
    {
     "name": "stdout",
     "output_type": "stream",
     "text": [
      "Test score: 99.9756\n"
     ]
    }
   ],
   "source": [
    "lr.fit(X_train,y_train)\n",
    "score = lr.score(X_test,y_test) * 100\n",
    "print(\"Test score: %.4f\" % score)"
   ]
  },
  {
   "cell_type": "code",
   "execution_count": 88,
   "metadata": {},
   "outputs": [],
   "source": [
    " ##myhouse = np.array([[ 3.,  1.],\n",
    " ##                 [100. , 2.]])\n",
    " ##lr.predict(myhouse)"
   ]
  },
  {
   "cell_type": "code",
   "execution_count": 89,
   "metadata": {},
   "outputs": [
    {
     "data": {
      "image/png": "[encoded data removed]",
      "text/plain": [
       "<matplotlib.figure.Figure at 0x10a2df6d0>"
      ]
     },
     "metadata": {},
     "output_type": "display_data"
    }
   ],
   "source": [
    " predicted = cross_val_predict(lr, x_dataset, y_dataset, cv=5)\n",
    " fig, ax = plt.subplots()\n",
    " ax.scatter(y_dataset, predicted, edgecolors=(0, 0, 0))\n",
    " ax.plot([y_dataset.min(), y_dataset.max()], [y_dataset.min(), y_dataset.max()], 'k--', lw=4)\n",
    " ax.set_xlabel('Measured')\n",
    " ax.set_ylabel('Predicted')\n",
    " plt.show()"
   ]
  },
  {
   "cell_type": "code",
   "execution_count": null,
   "metadata": {
    "collapsed": true
   },
   "outputs": [],
   "source": []
  }
 ],
 "metadata": {
  "kernelspec": {
   "display_name": "Python 2",
   "language": "python",
   "name": "python2"
  },
  "language_info": {
   "codemirror_mode": {
    "name": "ipython",
    "version": 2
   },
   "file_extension": ".py",
   "mimetype": "text/x-python",
   "name": "python",
   "nbconvert_exporter": "python",
   "pygments_lexer": "ipython2",
   "version": "2.7.14"
  }
 },
 "nbformat": 4,
 "nbformat_minor": 1
}
